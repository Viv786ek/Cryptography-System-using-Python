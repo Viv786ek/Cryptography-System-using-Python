{
  "nbformat": 4,
  "nbformat_minor": 0,
  "metadata": {
    "colab": {
      "name": "Untitled3.ipynb",
      "provenance": [],
      "collapsed_sections": [],
      "authorship_tag": "ABX9TyMLkArwTqfnOxeynTUyh9UR",
      "include_colab_link": true
    },
    "kernelspec": {
      "name": "python3",
      "display_name": "Python 3"
    },
    "language_info": {
      "name": "python"
    }
  },
  "cells": [
    {
      "cell_type": "markdown",
      "metadata": {
        "id": "view-in-github",
        "colab_type": "text"
      },
      "source": [
        "<a href=\"https://colab.research.google.com/github/Viv786ek/Cryptography-System-using-Python/blob/main/Cryptography%20System.ipynb\" target=\"_parent\"><img src=\"https://colab.research.google.com/assets/colab-badge.svg\" alt=\"Open In Colab\"/></a>"
      ]
    },
    {
      "cell_type": "code",
      "metadata": {
        "colab": {
          "base_uri": "https://localhost:8080/"
        },
        "id": "36dxWxCN6ebn",
        "outputId": "6ee79310-6298-44dc-a34f-5b66bd02c244"
      },
      "source": [
        "def machine():\n",
        "  keys = 'abcdefghijklmnopqrstuvwxyz !'\n",
        "  value = keys[-1] + keys[0:-1]\n",
        "\n",
        "  encryptDict = dict(zip(keys,value))\n",
        "  decryptDict = dict(zip(value,keys))\n",
        "\n",
        "  message= input(\"Please enter your secret message\")\n",
        "  mode = input(\"Please enter the mode : Encode(E) OR Decode(D)\")\n",
        "\n",
        "  if mode.upper() =='E':\n",
        "    newMessage = ''.join([encryptDict[letter] for letter in message.lower()])\n",
        "  elif mode.upper() == 'D':\n",
        "     newMessage = ''.join([decryptDict[letter] for letter in message.lower()])\n",
        "  else:\n",
        "    print(\"Please enter a correct choice\")\n",
        "\n",
        "\n",
        "  return newMessage\n",
        "\n",
        "print(machine())\n",
        "\n",
        "\n"
      ],
      "execution_count": 5,
      "outputs": [
        {
          "output_type": "stream",
          "text": [
            "Please enter your secret messagegdkkn\n",
            "Please enter the mode : Encode(E) OR Decode(D)D\n",
            "hello\n"
          ],
          "name": "stdout"
        }
      ]
    }
  ]
}